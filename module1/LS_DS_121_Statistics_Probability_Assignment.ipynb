{
  "nbformat": 4,
  "nbformat_minor": 0,
  "metadata": {
    "kernelspec": {
      "display_name": "Python 3",
      "language": "python",
      "name": "python3"
    },
    "language_info": {
      "codemirror_mode": {
        "name": "ipython",
        "version": 3
      },
      "file_extension": ".py",
      "mimetype": "text/x-python",
      "name": "python",
      "nbconvert_exporter": "python",
      "pygments_lexer": "ipython3",
      "version": "3.7.3"
    },
    "colab": {
      "name": "LS_DS_121_Statistics_Probability_Assignment.ipynb",
      "provenance": [],
      "include_colab_link": true
    }
  },
  "cells": [
    {
      "cell_type": "markdown",
      "metadata": {
        "id": "view-in-github",
        "colab_type": "text"
      },
      "source": [
        "<a href=\"https://colab.research.google.com/github/B-Meister/DS-Unit-1-Sprint-1-Data-Wrangling-and-Storytelling/blob/master/module1/LS_DS_121_Statistics_Probability_Assignment.ipynb\" target=\"_parent\"><img src=\"https://colab.research.google.com/assets/colab-badge.svg\" alt=\"Open In Colab\"/></a>"
      ]
    },
    {
      "cell_type": "markdown",
      "metadata": {
        "id": "Sa5KWMO1ngPN",
        "colab_type": "text"
      },
      "source": [
        "<img align=\"left\" src=\"https://lever-client-logos.s3.amazonaws.com/864372b1-534c-480e-acd5-9711f850815c-1524247202159.png\" width=200>\n",
        "<br></br>\n",
        "<br></br>\n",
        "\n",
        "## *Data Science Unit 1 Sprint 2 Assignment 1*\n",
        "\n",
        "# Apply the t-test to real data\n",
        "\n",
        "Your assignment is to determine which issues have \"statistically significant\" differences between political parties in this [1980s congressional voting data](https://archive.ics.uci.edu/ml/datasets/Congressional+Voting+Records). The data consists of 435 instances (one for each congressperson), a class (democrat or republican), and 16 binary attributes (yes or no for voting for or against certain issues). Be aware - there are missing values!\n",
        "\n",
        "Your goals:\n",
        "\n",
        "1. Load and clean the data (or determine the best method to drop observations when running tests)\n",
        "2. Using hypothesis testing, find an issue that democrats support more than republicans with p < 0.01\n",
        "3. Using hypothesis testing, find an issue that republicans support more than democrats with p < 0.01\n",
        "4. Using hypothesis testing, find an issue where the difference between republicans and democrats has p > 0.1 (i.e. there may not be much of a difference)\n",
        "\n",
        "### Using T-2 Tests for every part today\n",
        "\n",
        "Note that this data will involve *2 sample* t-tests, because you're comparing averages across two groups (republicans and democrats) rather than a single group against a null hypothesis."
      ]
    },
    {
      "cell_type": "code",
      "metadata": {
        "id": "ZKwspo2CngPP",
        "colab_type": "code",
        "colab": {}
      },
      "source": [
        "### YOUR CODE STARTS HERE\n",
        "from scipy import stats\n",
        "import pandas as pd\n",
        "import numpy as np\n",
        "import matplotlib.pyplot as plt"
      ],
      "execution_count": 0,
      "outputs": []
    },
    {
      "cell_type": "code",
      "metadata": {
        "id": "EHAM0RvcWbmr",
        "colab_type": "code",
        "colab": {}
      },
      "source": [
        "# from google.colab import files #download files from https://archive.ics.uci.edu/ml/datasets/Congressional+Voting+Records - house-voutes-84.data\n",
        "# df = files.upload()\n",
        "\n",
        "# or \n",
        "\n",
        "!wget https://archive.ics.uci.edu/ml/machine-learning-databases/voting-records/house-votes-84.data           #file direct from the website\n"
      ],
      "execution_count": 0,
      "outputs": []
    },
    {
      "cell_type": "code",
      "metadata": {
        "id": "kSUhOnJDWba4",
        "colab_type": "code",
        "colab": {}
      },
      "source": [
        "column_headers = ['party','handicapped-infants','water-project',\n",
        "                  'budget','physician-fee-freeze', 'el-salvador-aid',\n",
        "                  'religious-groups','anti-satellite-ban',\n",
        "                  'aid-to-contras','mx-missile','immigration',\n",
        "                  'synfuels', 'education', 'right-to-sue','crime','duty-free',\n",
        "                  'south-africa']\n",
        "\n",
        "df = pd.read_csv('house-votes-84.data', names=column_headers)\n",
        "\n",
        "df.head()"
      ],
      "execution_count": 0,
      "outputs": []
    },
    {
      "cell_type": "code",
      "metadata": {
        "id": "wyVARV4NWbDq",
        "colab_type": "code",
        "colab": {}
      },
      "source": [
        "df = df.replace({\"y\": 1, \"n\":0, \"?\": np.NaN})\n",
        "df.head()"
      ],
      "execution_count": 0,
      "outputs": []
    },
    {
      "cell_type": "code",
      "metadata": {
        "id": "q4PDnXbQWbTH",
        "colab_type": "code",
        "colab": {}
      },
      "source": [
        "df.isnull().sum() #shows that there are null values in all of the columns except for party - some we can infer that someone abstains every vote"
      ],
      "execution_count": 0,
      "outputs": []
    },
    {
      "cell_type": "code",
      "metadata": {
        "id": "cSvL6kBhWd0M",
        "colab_type": "code",
        "colab": {}
      },
      "source": [
        "rep = df[df['party']=='republican'] #puts all the republicans in one dataset\n",
        "rep.head(20)"
      ],
      "execution_count": 0,
      "outputs": []
    },
    {
      "cell_type": "code",
      "metadata": {
        "id": "VDV-UsSqWd9T",
        "colab_type": "code",
        "colab": {}
      },
      "source": [
        "dem = df[df['party']=='democrat'] #puts all the democrats in one dataset\n",
        "dem.head(20)"
      ],
      "execution_count": 0,
      "outputs": []
    },
    {
      "cell_type": "code",
      "metadata": {
        "id": "d1R_vDbAZFo3",
        "colab_type": "code",
        "colab": {}
      },
      "source": [
        "# null hypotheses ----\n",
        "# physician-fee-freeze/el-salvador aid - republican supported\n",
        "# anti-satellite-ban - democrat supported"
      ],
      "execution_count": 0,
      "outputs": []
    },
    {
      "cell_type": "code",
      "metadata": {
        "id": "pp-iJWeuZF09",
        "colab_type": "code",
        "outputId": "a2db9628-6a38-4a96-a118-1eb8f478c451",
        "colab": {
          "base_uri": "https://localhost:8080/",
          "height": 33
        }
      },
      "source": [
        "stats.ttest_ind(dem['el-salvador-aid'], rep['el-salvador-aid'], nan_policy='omit') #finding a set of data in which the republicans are more in favor"
      ],
      "execution_count": 0,
      "outputs": [
        {
          "output_type": "execute_result",
          "data": {
            "text/plain": [
              "Ttest_indResult(statistic=-21.13669261173219, pvalue=5.600520111729011e-68)"
            ]
          },
          "metadata": {
            "tags": []
          },
          "execution_count": 24
        }
      ]
    },
    {
      "cell_type": "code",
      "metadata": {
        "id": "mrtnIP2qZGAY",
        "colab_type": "code",
        "outputId": "f9fea792-907b-444e-936c-56522cf8110f",
        "colab": {
          "base_uri": "https://localhost:8080/",
          "height": 33
        }
      },
      "source": [
        "stats.ttest_ind(dem['anti-satellite-ban'], rep['anti-satellite-ban'], nan_policy='omit') #finding a set of data in which the democrats are more in favor"
      ],
      "execution_count": 0,
      "outputs": [
        {
          "output_type": "execute_result",
          "data": {
            "text/plain": [
              "Ttest_indResult(statistic=12.526187929077842, pvalue=8.521033017443867e-31)"
            ]
          },
          "metadata": {
            "tags": []
          },
          "execution_count": 26
        }
      ]
    },
    {
      "cell_type": "code",
      "metadata": {
        "id": "IemMgvYCZGaw",
        "colab_type": "code",
        "outputId": "7fea7b94-182c-4632-a7bd-d175d2812082",
        "colab": {
          "base_uri": "https://localhost:8080/",
          "height": 33
        }
      },
      "source": [
        "dem['el-salvador-aid'].mean()"
      ],
      "execution_count": 0,
      "outputs": [
        {
          "output_type": "execute_result",
          "data": {
            "text/plain": [
              "0.21568627450980393"
            ]
          },
          "metadata": {
            "tags": []
          },
          "execution_count": 27
        }
      ]
    },
    {
      "cell_type": "code",
      "metadata": {
        "id": "z_5Hln4yZGlC",
        "colab_type": "code",
        "outputId": "431ad609-c717-4554-da19-340e009853c3",
        "colab": {
          "base_uri": "https://localhost:8080/",
          "height": 33
        }
      },
      "source": [
        "rep['el-salvador-aid'].mean()"
      ],
      "execution_count": 0,
      "outputs": [
        {
          "output_type": "execute_result",
          "data": {
            "text/plain": [
              "0.9515151515151515"
            ]
          },
          "metadata": {
            "tags": []
          },
          "execution_count": 28
        }
      ]
    },
    {
      "cell_type": "code",
      "metadata": {
        "id": "lMsKGbMcZGvC",
        "colab_type": "code",
        "outputId": "104f13ce-aa4e-4e0c-de58-7bc560598faa",
        "colab": {
          "base_uri": "https://localhost:8080/",
          "height": 33
        }
      },
      "source": [
        "dem['anti-satellite-ban'].mean()"
      ],
      "execution_count": 0,
      "outputs": [
        {
          "output_type": "execute_result",
          "data": {
            "text/plain": [
              "0.7722007722007722"
            ]
          },
          "metadata": {
            "tags": []
          },
          "execution_count": 29
        }
      ]
    },
    {
      "cell_type": "code",
      "metadata": {
        "id": "qYWzwtzBZG5X",
        "colab_type": "code",
        "outputId": "446bb85b-376f-49b1-d0d5-55dbbd4da4f7",
        "colab": {
          "base_uri": "https://localhost:8080/",
          "height": 33
        }
      },
      "source": [
        "rep['anti-satellite-ban'].mean()"
      ],
      "execution_count": 0,
      "outputs": [
        {
          "output_type": "execute_result",
          "data": {
            "text/plain": [
              "0.24074074074074073"
            ]
          },
          "metadata": {
            "tags": []
          },
          "execution_count": 30
        }
      ]
    },
    {
      "cell_type": "code",
      "metadata": {
        "id": "QRfoudzMZHCv",
        "colab_type": "code",
        "colab": {
          "base_uri": "https://localhost:8080/",
          "height": 33
        },
        "outputId": "6e65ce7e-637e-4856-9ebf-004d12c535c0"
      },
      "source": [
        "stats.ttest_ind(dem['water-project'], rep['water-project'], nan_policy='omit') #Finding a set of data in which the Rep and Dem vote similarly"
      ],
      "execution_count": 10,
      "outputs": [
        {
          "output_type": "execute_result",
          "data": {
            "text/plain": [
              "Ttest_indResult(statistic=-0.08896538137868286, pvalue=0.9291556823993485)"
            ]
          },
          "metadata": {
            "tags": []
          },
          "execution_count": 10
        }
      ]
    },
    {
      "cell_type": "code",
      "metadata": {
        "id": "B9onsqSWfzbO",
        "colab_type": "code",
        "colab": {}
      },
      "source": [
        "mu = 0.5 #mu stays constant at 0.5"
      ],
      "execution_count": 0,
      "outputs": []
    },
    {
      "cell_type": "code",
      "metadata": {
        "id": "AY0Zh19DZHLl",
        "colab_type": "code",
        "colab": {
          "base_uri": "https://localhost:8080/",
          "height": 115
        },
        "outputId": "4f47abd5-7a3b-4c21-fdd0-cc5983ea306f"
      },
      "source": [
        "x_bardem1 = dem['el-salvador-aid'].mean() #Calculating the mean for all of the T-value calculations \n",
        "print (x_bardem1)\n",
        "x_barrep1 = rep['el-salvador-aid'].mean()\n",
        "print (x_barrep1)\n",
        "x_bardem2 = dem['anti-satellite-ban'].mean()\n",
        "print (x_bardem2)\n",
        "x_barrep2 = rep['anti-satellite-ban'].mean()\n",
        "print (x_barrep2)\n",
        "x_bardem3 = dem['water-project'].mean()\n",
        "print (x_bardem3)\n",
        "x_barrep3 = rep['water-project'].mean()\n",
        "x_barrep3"
      ],
      "execution_count": 18,
      "outputs": [
        {
          "output_type": "stream",
          "text": [
            "0.21568627450980393\n",
            "0.9515151515151515\n",
            "0.7722007722007722\n",
            "0.24074074074074073\n",
            "0.502092050209205\n"
          ],
          "name": "stdout"
        },
        {
          "output_type": "execute_result",
          "data": {
            "text/plain": [
              "0.5067567567567568"
            ]
          },
          "metadata": {
            "tags": []
          },
          "execution_count": 18
        }
      ]
    },
    {
      "cell_type": "code",
      "metadata": {
        "id": "28A54FmNZHU9",
        "colab_type": "code",
        "colab": {
          "base_uri": "https://localhost:8080/",
          "height": 115
        },
        "outputId": "ec26184d-63e9-4686-a2a6-8cd3014a2fbf"
      },
      "source": [
        "sdem1 = dem['el-salvador-aid'].std() #calculating the standard deviation for all of the T-value calculations\n",
        "print (sdem1)\n",
        "srep1 = rep['el-salvador-aid'].std()\n",
        "print (srep1)\n",
        "sdem2 = dem['anti-satellite-ban'].std()\n",
        "print (sdem2)\n",
        "srep2 = rep['anti-satellite-ban'].std()\n",
        "print (srep2)\n",
        "sdem3 = dem['water-project'].std()\n",
        "print (sdem3)\n",
        "srep3 = rep['water-project'].std()\n",
        "srep3"
      ],
      "execution_count": 19,
      "outputs": [
        {
          "output_type": "stream",
          "text": [
            "0.41210643311218\n",
            "0.21544227357842619\n",
            "0.4202244027678213\n",
            "0.4288588868025361\n",
            "0.50104493321917\n"
          ],
          "name": "stdout"
        },
        {
          "output_type": "execute_result",
          "data": {
            "text/plain": [
              "0.5016519868797793"
            ]
          },
          "metadata": {
            "tags": []
          },
          "execution_count": 19
        }
      ]
    },
    {
      "cell_type": "code",
      "metadata": {
        "id": "TuxGxf4AWdqE",
        "colab_type": "code",
        "colab": {
          "base_uri": "https://localhost:8080/",
          "height": 115
        },
        "outputId": "13a8f1d8-0294-43eb-d8cd-42082ae1f398"
      },
      "source": [
        "ndem1 = len(dem['el-salvador-aid']) #calculating the length for all of the T-value calculations \n",
        "print (ndem1)\n",
        "nrep1 = len(rep['el-salvador-aid'])\n",
        "print (nrep1)\n",
        "ndem2 = len(dem['anti-satellite-ban'])\n",
        "print (ndem2)  \n",
        "nrep2 = len(rep['anti-satellite-ban'])\n",
        "print (nrep2) \n",
        "ndem3 = len(dem['water-project'])\n",
        "print (ndem3)\n",
        "nrep3 = len(rep['water-project'])\n",
        "nrep3"
      ],
      "execution_count": 20,
      "outputs": [
        {
          "output_type": "stream",
          "text": [
            "267\n",
            "168\n",
            "267\n",
            "168\n",
            "267\n"
          ],
          "name": "stdout"
        },
        {
          "output_type": "execute_result",
          "data": {
            "text/plain": [
              "168"
            ]
          },
          "metadata": {
            "tags": []
          },
          "execution_count": 20
        }
      ]
    },
    {
      "cell_type": "code",
      "metadata": {
        "id": "9TJGYV5gWdXq",
        "colab_type": "code",
        "colab": {
          "base_uri": "https://localhost:8080/",
          "height": 245
        },
        "outputId": "ff18e080-da44-4576-b82f-2be454518d25"
      },
      "source": [
        "print (\"2. Anti Satellite Ban\")\n",
        "tdem2 = (x_bardem2-mu)/(sdem2/np.sqrt(ndem2))\n",
        "print (\"Dem T Statistic:\", tdem2)\n",
        "\n",
        "trep2 = (x_barrep2-mu)/(srep2/np.sqrt(nrep2))\n",
        "print (\"Rep T Statistic:\", trep2)\n",
        "print (\"We Reject the null hypothesis\")\n",
        "\n",
        "print (\"\")\n",
        "\n",
        "print (\"3. El Salvador Aid\")\n",
        "tdem1 = (x_bardem1-mu)/(sdem1/np.sqrt(ndem1))\n",
        "print (\"Dem T Statistic:\", tdem1)\n",
        "\n",
        "trep1 = (x_barrep1-mu)/(srep1/np.sqrt(nrep1))\n",
        "print (\"Rep T Statistic:\", trep1)\n",
        "print (\"We Reject the null hypothesis\")\n",
        "\n",
        "print (\"\")\n",
        "\n",
        "print (\"4. Water Project\")\n",
        "tdem3 = (x_bardem3-mu)/(sdem3/np.sqrt(ndem3))\n",
        "print (\"Dem T Statistic:\", tdem3)\n",
        "\n",
        "trep3 = (x_barrep3-mu)/(srep3/np.sqrt(nrep3))\n",
        "print (\"Rep T Statistic:\", trep3)\n",
        "print (\"We Fail to reject the null hypothesis\")\n"
      ],
      "execution_count": 29,
      "outputs": [
        {
          "output_type": "stream",
          "text": [
            "2. Anti Satellite Ban\n",
            "Dem T Statistic: 10.584338360963452\n",
            "Rep T Statistic: -7.835640508455569\n",
            "We Reject the null hypothesis\n",
            "\n",
            "3. El Salvador Aid\n",
            "Dem T Statistic: -11.273118254820448\n",
            "Rep T Statistic: 27.164145362649492\n",
            "We Reject the null hypothesis\n",
            "\n",
            "4. Water Project\n",
            "Dem T Statistic: 0.06822618057227792\n",
            "Rep T Statistic: 0.1745783517179612\n",
            "We Fail to reject the null hypothesis\n"
          ],
          "name": "stdout"
        }
      ]
    },
    {
      "cell_type": "code",
      "metadata": {
        "id": "W96OlsfFWdhN",
        "colab_type": "code",
        "colab": {}
      },
      "source": [
        ""
      ],
      "execution_count": 0,
      "outputs": []
    },
    {
      "cell_type": "markdown",
      "metadata": {
        "id": "wcA_AvvRAqW_",
        "colab_type": "text"
      },
      "source": [
        "## Stretch Goals:\n",
        "\n",
        "1. Refactor your code into functions so it's easy to rerun with arbitrary variables\n",
        "2. Work on Performing a T-test without using Scipy in order to get \"under the hood\" and learn more thoroughly about this topic.\n",
        "### Start with a 1-sample t-test\n",
        " - Establish the conditions for your test \n",
        " - [Calculate the T Statistic](https://blog.minitab.com/hs-fs/hubfs/Imported_Blog_Media/701f9c0efa98a38fb397f3c3ec459b66.png?width=247&height=172&name=701f9c0efa98a38fb397f3c3ec459b66.png) (You'll need to omit NaN values from your sample).\n",
        " - Translate that t-statistic into a P-value. You can use a [table](https://www.google.com/search?q=t+statistic+table) or the [University of Iowa Applet](https://homepage.divms.uiowa.edu/~mbognar/applets/t.html)\n",
        "\n",
        " ### Then try a 2-sample t-test\n",
        " - Establish the conditions for your test \n",
        " - [Calculate the T Statistic](https://lh3.googleusercontent.com/proxy/rJJ5ZOL9ZDvKOOeBihXoZDgfk7uv1YsRzSQ1Tc10RX-r2HrRpRLVqlE9CWX23csYQXcTniFwlBg3H-qR8MKJPBGnjwndqlhDX3JxoDE5Yg) (You'll need to omit NaN values from your sample).\n",
        " - Translate that t-statistic into a P-value. You can use a [table](https://www.google.com/search?q=t+statistic+table) or the [University of Iowa Applet](https://homepage.divms.uiowa.edu/~mbognar/applets/t.html)\n",
        "\n",
        " ### Then check your Answers using Scipy!"
      ]
    }
  ]
}